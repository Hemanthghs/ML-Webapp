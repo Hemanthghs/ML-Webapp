{
 "cells": [
  {
   "cell_type": "code",
   "execution_count": 32,
   "metadata": {},
   "outputs": [
    {
     "name": "stdout",
     "output_type": "stream",
     "text": [
      "Training Accuracy:  0.9833333333333333\n",
      "Test Accuracy:  0.9666666666666667\n"
     ]
    }
   ],
   "source": [
    "from sklearn.datasets import load_iris #importing the iris dataset from sklearn\r\n",
    "data = load_iris() #loading the data\r\n",
    "X = data.data #loading input features\r\n",
    "y = data.target #loading target values (outputs)\r\n",
    "\r\n",
    "from sklearn.model_selection import train_test_split #importing train_test_split from sklearn\r\n",
    "\r\n",
    "X_train, X_test, y_train, y_test = train_test_split(X, y, random_state = 21, test_size = 0.2) #spliting the data into train and test\r\n",
    "\r\n",
    "from sklearn.neighbors import KNeighborsClassifier #importing the knn classifier\r\n",
    "\r\n",
    "model = KNeighborsClassifier(n_neighbors = 5) #creating an instance of knn classifier with 'neighbors = 5'\r\n",
    "\r\n",
    "model.fit(X_train, y_train) #fitting the model train data\r\n",
    "\r\n",
    "print(\"Training Accuracy: \", model.score(X_train, y_train)) #calculating the training accuracy\r\n",
    "\r\n",
    "print(\"Test Accuracy: \", model.score(X_test, y_test)) #calculating the test accuracy"
   ]
  },
  {
   "cell_type": "code",
   "execution_count": 37,
   "metadata": {},
   "outputs": [
    {
     "data": {
      "text/plain": [
       "['model.sav']"
      ]
     },
     "execution_count": 37,
     "metadata": {},
     "output_type": "execute_result"
    }
   ],
   "source": [
    "import joblib\r\n",
    "\r\n",
    "joblib.dump(model, \"model.sav\")\r\n"
   ]
  },
  {
   "cell_type": "code",
   "execution_count": 42,
   "metadata": {},
   "outputs": [
    {
     "data": {
      "text/plain": [
       "array([0])"
      ]
     },
     "execution_count": 42,
     "metadata": {},
     "output_type": "execute_result"
    }
   ],
   "source": [
    "saved_model = joblib.load(\"model.sav\") \r\n",
    "\r\n",
    "saved_model.predict([[4.5, 2.3, 1.3, 0.3]])"
   ]
  }
 ],
 "metadata": {
  "interpreter": {
   "hash": "57baa5815c940fdaff4d14510622de9616cae602444507ba5d0b6727c008cbd6"
  },
  "kernelspec": {
   "display_name": "Python 3.7.8 64-bit",
   "name": "python3"
  },
  "language_info": {
   "codemirror_mode": {
    "name": "ipython",
    "version": 3
   },
   "file_extension": ".py",
   "mimetype": "text/x-python",
   "name": "python",
   "nbconvert_exporter": "python",
   "pygments_lexer": "ipython3",
   "version": "3.6.7"
  },
  "orig_nbformat": 4
 },
 "nbformat": 4,
 "nbformat_minor": 2
}